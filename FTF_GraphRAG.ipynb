{
  "nbformat": 4,
  "nbformat_minor": 0,
  "metadata": {
    "colab": {
      "provenance": [],
      "gpuType": "T4"
    },
    "kernelspec": {
      "name": "python3",
      "display_name": "Python 3"
    },
    "language_info": {
      "name": "python"
    },
    "accelerator": "GPU"
  },
  "cells": [
    {
      "cell_type": "markdown",
      "source": [
        "# Required Libaries"
      ],
      "metadata": {
        "id": "mcQ562Qg6UtC"
      }
    },
    {
      "cell_type": "code",
      "source": [
        "!pip install --upgrade --quiet langchain langchain-community langchain-groq neo4j langchain_experimental"
      ],
      "metadata": {
        "colab": {
          "base_uri": "https://localhost:8080/"
        },
        "id": "-mCUTX6IXlsU",
        "outputId": "1b8d74aa-fb77-4cf7-ec9a-14f9ef8b748f"
      },
      "execution_count": 1,
      "outputs": [
        {
          "output_type": "stream",
          "name": "stdout",
          "text": [
            "\u001b[?25l   \u001b[90m━━━━━━━━━━━━━━━━━━━━━━━━━━━━━━━━━━━━━━━━\u001b[0m \u001b[32m0.0/2.5 MB\u001b[0m \u001b[31m?\u001b[0m eta \u001b[36m-:--:--\u001b[0m\r\u001b[2K   \u001b[91m━━━━━━━━━━━━━━━━━━━━━━━━━━━━━━━━━━\u001b[0m\u001b[90m╺\u001b[0m\u001b[90m━━━━━\u001b[0m \u001b[32m2.2/2.5 MB\u001b[0m \u001b[31m64.4 MB/s\u001b[0m eta \u001b[36m0:00:01\u001b[0m\r\u001b[2K   \u001b[90m━━━━━━━━━━━━━━━━━━━━━━━━━━━━━━━━━━━━━━━━\u001b[0m \u001b[32m2.5/2.5 MB\u001b[0m \u001b[31m49.4 MB/s\u001b[0m eta \u001b[36m0:00:00\u001b[0m\n",
            "\u001b[?25h\u001b[?25l   \u001b[90m━━━━━━━━━━━━━━━━━━━━━━━━━━━━━━━━━━━━━━━━\u001b[0m \u001b[32m0.0/312.3 kB\u001b[0m \u001b[31m?\u001b[0m eta \u001b[36m-:--:--\u001b[0m\r\u001b[2K   \u001b[90m━━━━━━━━━━━━━━━━━━━━━━━━━━━━━━━━━━━━━━━━\u001b[0m \u001b[32m312.3/312.3 kB\u001b[0m \u001b[31m32.7 MB/s\u001b[0m eta \u001b[36m0:00:00\u001b[0m\n",
            "\u001b[?25h\u001b[?25l   \u001b[90m━━━━━━━━━━━━━━━━━━━━━━━━━━━━━━━━━━━━━━━━\u001b[0m \u001b[32m0.0/209.2 kB\u001b[0m \u001b[31m?\u001b[0m eta \u001b[36m-:--:--\u001b[0m\r\u001b[2K   \u001b[90m━━━━━━━━━━━━━━━━━━━━━━━━━━━━━━━━━━━━━━━━\u001b[0m \u001b[32m209.2/209.2 kB\u001b[0m \u001b[31m21.7 MB/s\u001b[0m eta \u001b[36m0:00:00\u001b[0m\n",
            "\u001b[?25h\u001b[?25l   \u001b[90m━━━━━━━━━━━━━━━━━━━━━━━━━━━━━━━━━━━━━━━━\u001b[0m \u001b[32m0.0/129.6 kB\u001b[0m \u001b[31m?\u001b[0m eta \u001b[36m-:--:--\u001b[0m\r\u001b[2K   \u001b[90m━━━━━━━━━━━━━━━━━━━━━━━━━━━━━━━━━━━━━━━━\u001b[0m \u001b[32m129.6/129.6 kB\u001b[0m \u001b[31m14.5 MB/s\u001b[0m eta \u001b[36m0:00:00\u001b[0m\n",
            "\u001b[?25h\u001b[?25l   \u001b[90m━━━━━━━━━━━━━━━━━━━━━━━━━━━━━━━━━━━━━━━━\u001b[0m \u001b[32m0.0/44.4 kB\u001b[0m \u001b[31m?\u001b[0m eta \u001b[36m-:--:--\u001b[0m\r\u001b[2K   \u001b[90m━━━━━━━━━━━━━━━━━━━━━━━━━━━━━━━━━━━━━━━━\u001b[0m \u001b[32m44.4/44.4 kB\u001b[0m \u001b[31m4.6 MB/s\u001b[0m eta \u001b[36m0:00:00\u001b[0m\n",
            "\u001b[?25h\u001b[?25l   \u001b[90m━━━━━━━━━━━━━━━━━━━━━━━━━━━━━━━━━━━━━━━━\u001b[0m \u001b[32m0.0/50.9 kB\u001b[0m \u001b[31m?\u001b[0m eta \u001b[36m-:--:--\u001b[0m\r\u001b[2K   \u001b[90m━━━━━━━━━━━━━━━━━━━━━━━━━━━━━━━━━━━━━━━━\u001b[0m \u001b[32m50.9/50.9 kB\u001b[0m \u001b[31m5.1 MB/s\u001b[0m eta \u001b[36m0:00:00\u001b[0m\n",
            "\u001b[?25h"
          ]
        }
      ]
    },
    {
      "cell_type": "markdown",
      "source": [
        "**Important** : <br>\n",
        "Before starting go to [Neo4j AuraDb](https://neo4j.com/product/auradb/) and create a database by creating a new instance. <br> And then put all the configurations in the below cell for creating and utilizing graphs"
      ],
      "metadata": {
        "id": "RwAvOxea8ufO"
      }
    },
    {
      "cell_type": "code",
      "source": [
        "# Graphdb configuration\n",
        "NEO4J_URI = \"YOUT_URI\"\n",
        "NEO4J_USERNAME = \"YOUR_USERNAME\"\n",
        "NEO4J_PASSWORD = \"YOUR_PASSWORD\"\n"
      ],
      "metadata": {
        "id": "csT8uVHDYgz_"
      },
      "execution_count": 2,
      "outputs": []
    },
    {
      "cell_type": "code",
      "source": [
        "import os\n",
        "os.environ[\"NEO4J_URI\"] = NEO4J_URI\n",
        "os.environ[\"NEO4J_USERNAME\"] = NEO4J_USERNAME\n",
        "os.environ[\"NEO4J_PASSWORD\"] = NEO4J_PASSWORD"
      ],
      "metadata": {
        "id": "ImxdtB4xZIPJ"
      },
      "execution_count": 3,
      "outputs": []
    },
    {
      "cell_type": "code",
      "source": [
        "from langchain_community.graphs import Neo4jGraph\n",
        "graph = Neo4jGraph(\n",
        "    url = NEO4J_URI,\n",
        "    username = NEO4J_USERNAME,\n",
        "    password = NEO4J_PASSWORD\n",
        ")"
      ],
      "metadata": {
        "id": "h1f02CVlZKxH",
        "colab": {
          "base_uri": "https://localhost:8080/"
        },
        "outputId": "b6e4cece-68ff-4f72-c491-978d6a03d796"
      },
      "execution_count": 4,
      "outputs": [
        {
          "output_type": "stream",
          "name": "stderr",
          "text": [
            "<ipython-input-4-f9f55c15b8c5>:2: LangChainDeprecationWarning: The class `Neo4jGraph` was deprecated in LangChain 0.3.8 and will be removed in 1.0. An updated version of the class exists in the :class:`~langchain-neo4j package and should be used instead. To use it run `pip install -U :class:`~langchain-neo4j` and import as `from :class:`~langchain_neo4j import Neo4jGraph``.\n",
            "  graph = Neo4jGraph(\n"
          ]
        }
      ]
    },
    {
      "cell_type": "code",
      "source": [
        "graph"
      ],
      "metadata": {
        "colab": {
          "base_uri": "https://localhost:8080/"
        },
        "id": "HMGKbVDqZOHZ",
        "outputId": "2ebc676e-1e0f-4087-a059-3e6641dda5ca"
      },
      "execution_count": 5,
      "outputs": [
        {
          "output_type": "execute_result",
          "data": {
            "text/plain": [
              "<langchain_community.graphs.neo4j_graph.Neo4jGraph at 0x784be71e4e10>"
            ]
          },
          "metadata": {},
          "execution_count": 5
        }
      ]
    },
    {
      "cell_type": "code",
      "source": [
        "# Provide your api key, so we can utilize the power of llm\n",
        "groq_api_key = \"YOUR_API_KEY\"\n"
      ],
      "metadata": {
        "id": "xUbTKP3na_Cd"
      },
      "execution_count": 6,
      "outputs": []
    },
    {
      "cell_type": "code",
      "source": [
        "from langchain_groq import ChatGroq\n",
        "\n",
        "llm = ChatGroq(groq_api_key = groq_api_key, model_name = \"Llama-3.3-70b-Versatile\")\n",
        "llm"
      ],
      "metadata": {
        "colab": {
          "base_uri": "https://localhost:8080/"
        },
        "id": "VAS15W9ea_GE",
        "outputId": "47f36a98-3a56-4edb-cf99-da5f6d9fa9b2"
      },
      "execution_count": 7,
      "outputs": [
        {
          "output_type": "execute_result",
          "data": {
            "text/plain": [
              "ChatGroq(client=<groq.resources.chat.completions.Completions object at 0x784bb7102f90>, async_client=<groq.resources.chat.completions.AsyncCompletions object at 0x784bb6cac790>, model_name='Llama-3.3-70b-Versatile', model_kwargs={}, groq_api_key=SecretStr('**********'))"
            ]
          },
          "metadata": {},
          "execution_count": 7
        }
      ]
    },
    {
      "cell_type": "markdown",
      "source": [
        "# Loading the scraped text file of the travel blog\n",
        "\n",
        "**Blog** : [Seven Sister Hills](https://fitnesstravelfood.com/seven-sisters-hill-the-best-trek-near-nagpur/)\n"
      ],
      "metadata": {
        "id": "UlEmcozw6yir"
      }
    },
    {
      "cell_type": "code",
      "source": [
        "from langchain_community.document_loaders import TextLoader\n",
        "\n",
        "file_path = '/content/scraped_data.txt'\n",
        "\n",
        "loader = TextLoader(file_path, encoding='utf-8')\n",
        "\n",
        "documents = loader.load()\n"
      ],
      "metadata": {
        "id": "NhudDZJ5azmW"
      },
      "execution_count": 8,
      "outputs": []
    },
    {
      "cell_type": "code",
      "source": [
        "#initialize the LLMGraphTransformer with the LLM\n",
        "from langchain_experimental.graph_transformers import LLMGraphTransformer\n",
        "\n",
        "llm_transformer = LLMGraphTransformer(llm=llm)\n",
        "\n",
        "#Convert the documents to graph-based documents\n",
        "graph_documents = llm_transformer.convert_to_graph_documents(documents)\n"
      ],
      "metadata": {
        "id": "C4eYf93tbo9c"
      },
      "execution_count": 9,
      "outputs": []
    },
    {
      "cell_type": "code",
      "source": [
        "graph_documents"
      ],
      "metadata": {
        "colab": {
          "base_uri": "https://localhost:8080/"
        },
        "id": "snEBHonvbvPz",
        "outputId": "6bad3061-15ad-45b5-b27a-7011fd892e38"
      },
      "execution_count": 10,
      "outputs": [
        {
          "output_type": "execute_result",
          "data": {
            "text/plain": [
              "[GraphDocument(nodes=[Node(id='Seven Sisters Hill', type='Hill', properties={}), Node(id='Nagpur', type='City', properties={}), Node(id='Chandrapur District', type='District', properties={}), Node(id='Sonapur Village', type='Village', properties={}), Node(id='Muktai', type='Hill', properties={}), Node(id='Ambai', type='Hill', properties={}), Node(id='Nimbai', type='Hill', properties={}), Node(id='Mahakali', type='Hill', properties={}), Node(id='Lakshmi', type='Hill', properties={}), Node(id='Durga', type='Hill', properties={}), Node(id='Saraswati', type='Hill', properties={}), Node(id='Umred-Bhisi Highway', type='Highway', properties={}), Node(id='Umrer-Bhisi Route', type='Route', properties={}), Node(id='Muktai Waterfall', type='Waterfall', properties={}), Node(id='Ghorazari Dam', type='Dam', properties={}), Node(id='Zari Waterfall', type='Waterfall', properties={})], relationships=[Relationship(source=Node(id='Seven Sisters Hill', type='Hill', properties={}), target=Node(id='Nagpur', type='City', properties={}), type='LOCATED_NEAR', properties={}), Relationship(source=Node(id='Seven Sisters Hill', type='Hill', properties={}), target=Node(id='Chandrapur District', type='District', properties={}), type='LOCATED_IN', properties={}), Relationship(source=Node(id='Seven Sisters Hill', type='Hill', properties={}), target=Node(id='Sonapur Village', type='Village', properties={}), type='ADJACENT_TO', properties={}), Relationship(source=Node(id='Muktai', type='Hill', properties={}), target=Node(id='Seven Sisters Hill', type='Hill', properties={}), type='PART_OF', properties={}), Relationship(source=Node(id='Ambai', type='Hill', properties={}), target=Node(id='Seven Sisters Hill', type='Hill', properties={}), type='PART_OF', properties={}), Relationship(source=Node(id='Nimbai', type='Hill', properties={}), target=Node(id='Seven Sisters Hill', type='Hill', properties={}), type='PART_OF', properties={}), Relationship(source=Node(id='Mahakali', type='Hill', properties={}), target=Node(id='Seven Sisters Hill', type='Hill', properties={}), type='PART_OF', properties={}), Relationship(source=Node(id='Lakshmi', type='Hill', properties={}), target=Node(id='Seven Sisters Hill', type='Hill', properties={}), type='PART_OF', properties={}), Relationship(source=Node(id='Durga', type='Hill', properties={}), target=Node(id='Seven Sisters Hill', type='Hill', properties={}), type='PART_OF', properties={}), Relationship(source=Node(id='Saraswati', type='Hill', properties={}), target=Node(id='Seven Sisters Hill', type='Hill', properties={}), type='PART_OF', properties={}), Relationship(source=Node(id='Seven Sisters Hill', type='Hill', properties={}), target=Node(id='Umred-Bhisi Highway', type='Highway', properties={}), type='CONNECTED_BY', properties={}), Relationship(source=Node(id='Seven Sisters Hill', type='Hill', properties={}), target=Node(id='Muktai Waterfall', type='Waterfall', properties={}), type='NEAR', properties={}), Relationship(source=Node(id='Seven Sisters Hill', type='Hill', properties={}), target=Node(id='Ghorazari Dam', type='Dam', properties={}), type='NEAR', properties={}), Relationship(source=Node(id='Seven Sisters Hill', type='Hill', properties={}), target=Node(id='Zari Waterfall', type='Waterfall', properties={}), type='NEAR', properties={})], source=Document(metadata={'source': '/content/scraped_data.txt'}, page_content='Fitness Travel Food\\nStay alive!\\nSeven Sisters Hill, Perjagadh is situated in the Chandrapur District, adjacent to Sonapur Village, 106 kilometers from Nagpur. The Hill, which is 459 meters high and 35 kilometers\\xa0long, is what gives the hill its name, Seven Sisters Hill. Hills named Muktai, Ambai, Nimbai, Mahakali, Lakshmi, Durga, and Saraswati the seven sisters.It’s a one-day trip from Nagpur. The best option for weekend getaways.To get there, take the Umrer-Bhisi Highway.It takes approx 2 hours and 30 minutes from the Zero mile Nagpur with zero Tolls. (At least we got zero tolls)Never knew such an amazing trek spot near my native place. I’ve been living here for like 20 years. But never explored Seven Sisters Hill. Surprisingly hola, all! Here’s a friendly reminder that this year’s 2025 monsoon season has almost knocked at your doorstep. Visit Seven Sisters Hill before the monsoon ends, if you want to experience the adventure and the most breathtaking views.\\n\\nWell, are you interested in joining us on our exciting sustainable travel and trek journey to Seven Sisters Hill?? Are you ready to have a unique and memorable experience? Fill out the below form, and we will send you all the details! Stay Alive!\\nLet’s begin with a few questions.Do you enjoy trekking or hiking?Do you enjoy spending time outdoors in Nature?Well…who doesn’t want to be in Nature, as we all are now living in the concrete jungle!Let me ask you one more thing.Are you a fitness freak?\\nThe reason I asked these questions is that trekking tests your fitness level. Your stamina, strength, mindset, focus, etc. If you’re a fitness fanatic, then there’s no issue. But if you’re not, then it will preach you or inspire you to get fit.Just like that!Ergo, frequent treks are worth it for your health and fitness. So here’s my journey to seven sisters hill. What could possibly go wrong the moment you wake up on the day of your trek? Well in my case, a heavy rain!It kinda disappointed us.What else could you expect during the monsoon season in August?At the same time, we didn’t want to postpone the plan, so we decided to stick to the plan and prepared our minds to get wet during the trek.Actually, It was becoming more adventurous. \\nJust stay aligned with nature. It will take you to the places you never imagined.\\nA post shared by Fitness Travel Food (@alive_with_ftf)\\nAt 7 AM, three of my friends and I set out on our journey to Seven Sisters Hill.We took the four-wheeler and prepared for the long drive.The overall travel to Seven Sisters Hill was quite exciting. The Umred-Bhisi route’s highway infrastructure was quite smooth and had no tolls along the way. (Although we did cross one toll it wasn’t functional) We followed Google Maps, and it led us in the right direction. With two stops along the way, the trip took approx. 2:30 hours.Suddenly on the way itself, weather kinda blessed us with the so-called “Perfect Weather“. It stopped raining outside. The weather was quite crisp with a moderate fresh breeze, plus the cloudy skies saved us from the sunlight Tan. (This is one of the reasons I urged people to come here before the monsoon season ends!)\\nWe drove to our destination, Seven Sisters Hill, parked our car there, and they charged us around Rs. 50/-There was adequate parking space for travelers to park there.\\xa0A variety\\xa0of\\xa0local\\xa0stalls\\xa0were also available onsite,\\xa0including\\xa0food(snacks\\xa0only),\\xa0but carry\\xa0your\\xa0own\\xa0if\\xa0possible.We grabbed our backpacks with the essentials and began the hike.From below, you would be able to see the hill height,\\xa0where you could have a glance at a few people standing at the cliff of the hill which reminded me of ANTS.This\\xa0would\\xa0allow\\xa0you\\xa0to\\xa0see\\xa0how\\xa0far\\xa0you have\\xa0to\\xa0trek.\\xa0This made us feel more energized and challenged.Trek\\xa0begins\\xa0with\\xa0stairs\\xa0and\\xa0it looks\\xa0like\\xa0a\\xa0temple\\xa0entrance.After a few steps, the stairs ended, and the actual trek began.It’s a slant trek, not a plain trail, but one covered with gravel, stones, and rocks.After 15-20 Minutes of the trek, we felt the difficulty of this trek. (Easy-Moderate Level Trek)I’ve seen few people returning back from the midpoint of the trek because they became exhausted. But trust me, have patience, take as many breaks as you need in the middle of the trek but don’t give up.Because once you reach the top of the hill, the view will make the discomfort negligible. All your anguish will be forgotten. Your efforts will be rewarded by the peace and beautiful vista.It was a dense forest, so dense that the tree canopy prevented us from seeing the sky.\\xa0Above us, it appears to be like a natural shade.\\xa0Perfect for hiking on sunny days because it shields your skin from UV rays.We\\xa0continued\\xa0on\\xa0our\\xa0trek.\\xa0The vista grew more breathtaking and lively as we drew nearer to the summit.We could now feel the cool breeze, which soon refreshed our souls and carried away all of our fatigue.\\nWe finally made it to the peak after an hour of trekking. Your heart would literally spell, “WoW, grateful to be here” The feeling that can’t be expressed but only felt.After watching the panorama. Which was undefinable. I’ve been to many different treks, but every trek gave me unique experiences.The hilltop was surrounded by hills and greenery all around, and the dense forest and cold breeze that carried only pure oxygen which revived our spirits. From the summit, one could also glimpse a few lakes and ponds.Nothing except Mother Nature was visible on the horizon, not a single concrete structure!\\xa0\\xa0Such a wonderful place to be.We also came across an elderly woman, maybe 80 years old, who had hiked barefoot to the peak to take in the spectacular view. She was inspiring everyone around her to trek. Including Us!\\xa0It’s all about the mindset.\\nWe then sat on the rocks atop the hill and relished the view while munching the fruits and the lunch we had brought with us.Well, I believe that this is a true luxury.In Nature!With Nature!Align with Nature!An experience to treasure.We took a few photographs to capture the moment, and then we hiked back down the hill. Approaching the starting point on the way back took only 30 minutes. In order to make us feel less worn out, nature spilled soothing rain on us.\\nTrekking will always offer you the the best views and the most memorable experiences in life. Now go & have them!\\nIn a nutshell, Seven Sisters Hill is the best trekking location near Nagpur. You will experience an incredible mini-adventure, or dopamine rush, in biological terms. For nature lovers, it’s a gem. It’ll give you a sense of self-satisfaction and mental peace.Near Seven Sisters Hill, there are additional attractions to visit, including:– Muktai Waterfall– Ghorazari Dam– Zari waterfallDo you know any offbeat trekking locations close to Nagpur?Share it in the comments below.Don’t forget to\\xa0subscribe\\xa0to our\\xa0Newsletter\\xa0for Fitness Travel Food Updates!Hope you get to travel the World!Have a safe Trek!\\nTo Read More Such Blogs Click Home.\\n\\nWhat an amazing experience it was !!\\nAfter reading this blog my memories from there just got refreshed, wanna go there again.\\nPeaceful and heavenly place!\\nAnd keep it up girl your blogs are just awesome as you are.\\nLove 🙂\\nTysm Dear! It means a lot to me.\\nThat was really a wonderful experience and with people like you, makes it more beautiful.\\nNow go and prepare yourself for more such adventures.❤\\nWhat an amazing blog…i loved it…while reading this i started feeling as if i am present at seven sisters hill…keep going Neha ❤️❤️🥰🥰loads of love and best wishes\\nTysm! So grateful that I’m able to share my experience in such a way.❤\\nReading this blog, reminds my trek. What a amazing and eventful day it was. Brothers, mountains, bike, rain and mother nature…………….life\\nThank you for remind me that day….. ❤\\nAnd keep writing it👍…. Waiting for next trekking destination……. 😎\\nGlad to hear this. Stay fit & happy trekking🙌\\nIs there any Bus facilities from nagpur\\nThank you for such an informative blog. This weekend I will probably visit there and your blog is really helping me to plan a few things in advance. In fact, I checked a few other posts, and I love those too. Just knowing about a person from my native town who is as interested in places, travel, food, and fitness as me, this feeling gives my heart a moment of comfort. Nagpur needs more talent like you. Keep Exploring Neha and keep writing about your experiences. Your descriptive writing is really beautiful. God bless you with everything you want. Cheers!\\nI’m so glad & grateful that you loved it.\\nThanks for reading and sharing your views.\\nI wish you safe and sustainable journeys!💚\\nI am a 60 yr old retired professor. I am interested in Trekking near Nagpur. Can you please include me in your hiking group?\\nYeah sure, why not? You can follow us on Instagram or subscribe to our newsletter for any latest updates.\\nThank you for sharing your experience my friends and I thinking to go there but we didn’t know anything about there this very useful information 💌\\nAmazing content on Seven Sisters Hill I loved it\\nAny place for stay?\\nUnfortunately, there are no stays at this place as far as I know. However, you may search for it in the nearby city or town.\\nI am curious to find out what blog system you’re using?\\nHey, would you mind if I share your blog with my twitter group? There’s a lot of folks that I think would enjoy your content. Please let me know. Thank you.\\n🚀 Wow, blog ini seperti roket meluncur ke galaksi dari kegembiraan! 💫 Konten yang menegangkan di sini adalah perjalanan rollercoaster yang mendebarkan bagi imajinasi, memicu ketertarikan setiap saat. 🌟 Baik itu inspirasi, blog ini adalah harta karun wawasan yang inspiratif! #PetualanganMenanti 🚀 ke dalam petualangan mendebarkan ini dari imajinasi dan biarkan pikiran Anda melayang! 🌈 Jangan hanya membaca, rasakan kegembiraan ini! #MelampauiBiasa Pikiran Anda akan bersyukur untuk perjalanan mendebarkan ini melalui alam keajaiban yang menakjubkan! 🚀\\nI like this, but I do have a question.  Do you mind answering?\\n💫 Wow, blog ini seperti petualangan fantastis meluncurkan ke galaksi dari keajaiban! 💫 Konten yang menegangkan di sini adalah perjalanan rollercoaster yang mendebarkan bagi pikiran, memicu kagum setiap saat. 🎢 Baik itu gayahidup, blog ini adalah sumber wawasan yang inspiratif! 🌟 Berangkat ke dalam perjalanan kosmik ini dari penemuan dan biarkan pemikiran Anda berkelana! 🚀 Jangan hanya menikmati, rasakan sensasi ini! #MelampauiBiasa 🚀 akan bersyukur untuk perjalanan menyenangkan ini melalui alam keajaiban yang tak berujung! 🚀\\nBrilliant content\\nThanks for sharing. I read many of your blog posts, cool, your blog is very good.\\nnice content!nice history!! boba 😀\\nOnly wanna remark that you have a very nice internet site, I  the design and style it actually stands out.\\nYour post is a ray of light in the darkness. Thank you for brightening my day in a unique way. Keep shining! ☀️\\nI have no words to describe how your content illuminated my day. Keep being that source of inspiration! 🌟\\nI enjoy you because of your own effort on this web site. My daughter really likes engaging in investigations and it’s easy to understand why. All of us notice all of the powerful means you provide useful ideas via this web blog and therefore foster response from the others on this issue plus our girl is undoubtedly discovering a great deal. Take advantage of the rest of the new year. Your carrying out a superb job.\\nHey! Do you know if they make any plugins to help with Search Engine Optimization? I’m trying to get my blog to rank for some targeted keywords but I’m not seeing very good gains. If you know of any please share. Cheers!\\nI am genuinely amazed with your profound understanding and stellar writing style. Your expertise shines through in each paragraph. It’s obvious that you put a lot of effort into delving into your topics, and the results is well-appreciated. Thank you for sharing such detailed information. Continue the excellent job! http://www.RochelleMaize.com\\nGreat post. I was checking constantly this blog and I am impressed! Extremely useful information specially the last part 🙂 I care for such information a lot. I was looking for this certain info for a long time. Thank you and best of luck.\\nYour article helped me a lot, is there any more related content? Thanks!\\nThanks for sharing. I read many of your blog posts, cool, your blog is very good.\\nYour email address will not be published. Required fields are marked *\\nComment\\nName*\\nEmail*\\nWebsite\\n Save my name, email, and website in this browser for the next time I comment.\\n Notify me of follow-up comments by email.\\n Notify me of new posts by email.\\n \\n\\nA Biotechnologist turned Blogger.\\nFounder@FTF.\\nFreelancer- Search Engine Marketing(SEO) Keyword Research & Content Writing,\\nCertified Yoga Instructor (200Hrs YTTc)\\nCertified Diet Coach.\\nAll in all, a remote worker.\\n'))]"
            ]
          },
          "metadata": {},
          "execution_count": 10
        }
      ]
    },
    {
      "cell_type": "code",
      "source": [
        "# All the nodes defined by the graph transformer\n",
        "graph_documents[0].nodes"
      ],
      "metadata": {
        "colab": {
          "base_uri": "https://localhost:8080/"
        },
        "id": "Vq5C3MUvbxIq",
        "outputId": "f473cf31-f5f7-45ac-f958-d3621bd02f20"
      },
      "execution_count": 11,
      "outputs": [
        {
          "output_type": "execute_result",
          "data": {
            "text/plain": [
              "[Node(id='Seven Sisters Hill', type='Hill', properties={}),\n",
              " Node(id='Nagpur', type='City', properties={}),\n",
              " Node(id='Chandrapur District', type='District', properties={}),\n",
              " Node(id='Sonapur Village', type='Village', properties={}),\n",
              " Node(id='Muktai', type='Hill', properties={}),\n",
              " Node(id='Ambai', type='Hill', properties={}),\n",
              " Node(id='Nimbai', type='Hill', properties={}),\n",
              " Node(id='Mahakali', type='Hill', properties={}),\n",
              " Node(id='Lakshmi', type='Hill', properties={}),\n",
              " Node(id='Durga', type='Hill', properties={}),\n",
              " Node(id='Saraswati', type='Hill', properties={}),\n",
              " Node(id='Umred-Bhisi Highway', type='Highway', properties={}),\n",
              " Node(id='Umrer-Bhisi Route', type='Route', properties={}),\n",
              " Node(id='Muktai Waterfall', type='Waterfall', properties={}),\n",
              " Node(id='Ghorazari Dam', type='Dam', properties={}),\n",
              " Node(id='Zari Waterfall', type='Waterfall', properties={})]"
            ]
          },
          "metadata": {},
          "execution_count": 11
        }
      ]
    },
    {
      "cell_type": "code",
      "source": [
        "# relationships\n",
        "graph_documents[0].relationships"
      ],
      "metadata": {
        "colab": {
          "base_uri": "https://localhost:8080/"
        },
        "id": "5LnJbMvub2ec",
        "outputId": "4aa3c96e-662c-471e-9ebe-40b4c00b0a39"
      },
      "execution_count": 12,
      "outputs": [
        {
          "output_type": "execute_result",
          "data": {
            "text/plain": [
              "[Relationship(source=Node(id='Seven Sisters Hill', type='Hill', properties={}), target=Node(id='Nagpur', type='City', properties={}), type='LOCATED_NEAR', properties={}),\n",
              " Relationship(source=Node(id='Seven Sisters Hill', type='Hill', properties={}), target=Node(id='Chandrapur District', type='District', properties={}), type='LOCATED_IN', properties={}),\n",
              " Relationship(source=Node(id='Seven Sisters Hill', type='Hill', properties={}), target=Node(id='Sonapur Village', type='Village', properties={}), type='ADJACENT_TO', properties={}),\n",
              " Relationship(source=Node(id='Muktai', type='Hill', properties={}), target=Node(id='Seven Sisters Hill', type='Hill', properties={}), type='PART_OF', properties={}),\n",
              " Relationship(source=Node(id='Ambai', type='Hill', properties={}), target=Node(id='Seven Sisters Hill', type='Hill', properties={}), type='PART_OF', properties={}),\n",
              " Relationship(source=Node(id='Nimbai', type='Hill', properties={}), target=Node(id='Seven Sisters Hill', type='Hill', properties={}), type='PART_OF', properties={}),\n",
              " Relationship(source=Node(id='Mahakali', type='Hill', properties={}), target=Node(id='Seven Sisters Hill', type='Hill', properties={}), type='PART_OF', properties={}),\n",
              " Relationship(source=Node(id='Lakshmi', type='Hill', properties={}), target=Node(id='Seven Sisters Hill', type='Hill', properties={}), type='PART_OF', properties={}),\n",
              " Relationship(source=Node(id='Durga', type='Hill', properties={}), target=Node(id='Seven Sisters Hill', type='Hill', properties={}), type='PART_OF', properties={}),\n",
              " Relationship(source=Node(id='Saraswati', type='Hill', properties={}), target=Node(id='Seven Sisters Hill', type='Hill', properties={}), type='PART_OF', properties={}),\n",
              " Relationship(source=Node(id='Seven Sisters Hill', type='Hill', properties={}), target=Node(id='Umred-Bhisi Highway', type='Highway', properties={}), type='CONNECTED_BY', properties={}),\n",
              " Relationship(source=Node(id='Seven Sisters Hill', type='Hill', properties={}), target=Node(id='Muktai Waterfall', type='Waterfall', properties={}), type='NEAR', properties={}),\n",
              " Relationship(source=Node(id='Seven Sisters Hill', type='Hill', properties={}), target=Node(id='Ghorazari Dam', type='Dam', properties={}), type='NEAR', properties={}),\n",
              " Relationship(source=Node(id='Seven Sisters Hill', type='Hill', properties={}), target=Node(id='Zari Waterfall', type='Waterfall', properties={}), type='NEAR', properties={})]"
            ]
          },
          "metadata": {},
          "execution_count": 12
        }
      ]
    },
    {
      "cell_type": "code",
      "source": [
        "# This will create the graph in the Neo4j graph database where we have created the instance\n",
        "graph.add_graph_documents(graph_documents, baseEntityLabel=True, include_source=True)"
      ],
      "metadata": {
        "id": "oPwunZA4b9bt"
      },
      "execution_count": 13,
      "outputs": []
    },
    {
      "cell_type": "code",
      "source": [
        "import textwrap\n",
        "\n",
        "# Schema of the database\n",
        "graph.refresh_schema()\n",
        "print(textwrap.fill(graph.schema, 60))"
      ],
      "metadata": {
        "colab": {
          "base_uri": "https://localhost:8080/"
        },
        "id": "fFguA1pvhfqp",
        "outputId": "a23d9551-c5fd-4d05-d368-8320e0c2131a"
      },
      "execution_count": 14,
      "outputs": [
        {
          "output_type": "stream",
          "name": "stdout",
          "text": [
            "Node properties: Document {id: STRING, text: STRING, source:\n",
            "STRING} Hill {id: STRING} City {id: STRING} District {id:\n",
            "STRING} Village {id: STRING} Highway {id: STRING} Route {id:\n",
            "STRING} Waterfall {id: STRING} Dam {id: STRING} Relationship\n",
            "properties:  The relationships:\n",
            "(:Document)-[:MENTIONS]->(:Hill)\n",
            "(:Document)-[:MENTIONS]->(:City)\n",
            "(:Document)-[:MENTIONS]->(:District)\n",
            "(:Document)-[:MENTIONS]->(:Village)\n",
            "(:Document)-[:MENTIONS]->(:Highway)\n",
            "(:Document)-[:MENTIONS]->(:Route)\n",
            "(:Document)-[:MENTIONS]->(:Waterfall)\n",
            "(:Document)-[:MENTIONS]->(:Dam)\n",
            "(:Hill)-[:LOCATED_NEAR]->(:City)\n",
            "(:Hill)-[:LOCATED_IN]->(:District)\n",
            "(:Hill)-[:ADJACENT_TO]->(:Village)\n",
            "(:Hill)-[:CONNECTED_BY]->(:Highway)\n",
            "(:Hill)-[:NEAR]->(:Waterfall) (:Hill)-[:NEAR]->(:Dam)\n",
            "(:Hill)-[:PART_OF]->(:Hill)\n"
          ]
        }
      ]
    },
    {
      "cell_type": "code",
      "source": [
        "schema = \"\"\"\n",
        "Nodes & Properties:\n",
        "  • Document { id: STRING, text: STRING, source: STRING }\n",
        "  • Hill     { id: STRING }\n",
        "  • City     { id: STRING }\n",
        "  • District { id: STRING }\n",
        "  • Village  { id: STRING }\n",
        "  • Highway  { id: STRING }\n",
        "  • Route    { id: STRING }\n",
        "  • Waterfall{ id: STRING }\n",
        "  • Dam      { id: STRING }\n",
        "\n",
        "Relationships:\n",
        "  • (Document)-[:MENTIONS]->(Hill)\n",
        "  • (Document)-[:MENTIONS]->(City)\n",
        "  • (Document)-[:MENTIONS]->(District)\n",
        "  • (Document)-[:MENTIONS]->(Village)\n",
        "  • (Document)-[:MENTIONS]->(Highway)\n",
        "  • (Document)-[:MENTIONS]->(Route)\n",
        "  • (Document)-[:MENTIONS]->(Waterfall)\n",
        "  • (Document)-[:MENTIONS]->(Dam)\n",
        "  • (Hill)-[:LOCATED_NEAR]->(City)\n",
        "  • (Hill)-[:LOCATED_IN]->(District)\n",
        "  • (Hill)-[:ADJACENT_TO]->(Village)\n",
        "  • (Hill)-[:CONNECTED_BY]->(Highway)\n",
        "  • (Hill)-[:NEAR]->(Waterfall)\n",
        "  • (Hill)-[:NEAR]->(Dam)\n",
        "  • (Hill)-[:PART_OF]->(Hill)\n",
        "\"\"\"\n"
      ],
      "metadata": {
        "id": "Yu6janLMu3nT"
      },
      "execution_count": 16,
      "outputs": []
    },
    {
      "cell_type": "code",
      "source": [
        "# Defining the prompt which will we provided to the llm.\n",
        "# Note we uiltizing few shot prompting, so llm can generate proper cypher query\n",
        "from langchain.prompts import PromptTemplate\n",
        "\n",
        "CYPHER_GENERATION_TEMPLATE = \"\"\"Task: Generate a Cypher statement to query a graph database.\n",
        "Instructions:\n",
        "Use only the provided labels, relationship types, and properties in the schema. Do not use any other labels, relationships, or properties that are not listed.\n",
        "Schema:\n",
        "{schema}\n",
        "\n",
        "Note:\n",
        "- Do NOT include any explanations or apologies in your response.\n",
        "- Do NOT respond to anything other than constructing a Cypher statement.\n",
        "- Return ONLY the Cypher statement—no extra text.\n",
        "\n",
        "Examples:\n",
        "#1. What are the names of all the Seven Sisters hills?\n",
        "MATCH (h:Hill)-[:PART_OF]->(parent:Hill {{id: \"Seven Sisters Hill\"}})\n",
        "RETURN h.id AS hillName;\n",
        "\n",
        "#2. Which cities and villages are near the Seven Sisters Hill?\n",
        "MATCH (place)-[:NEAR]->(parent:Hill {{id: \"Seven Sisters Hill\"}})\n",
        "WHERE place:City OR place:Village\n",
        "RETURN place.id AS name, labels(place) AS type;\n",
        "\n",
        "\n",
        "The question is:\n",
        "{question}\n",
        "\"\"\"\n",
        "\n",
        "CYPHER_GENERATION_PROMPT = PromptTemplate(\n",
        "    input_variables=[\"schema\", \"question\"],\n",
        "    template=CYPHER_GENERATION_TEMPLATE\n",
        ")\n"
      ],
      "metadata": {
        "id": "0b6HfnzTjyvu"
      },
      "execution_count": 32,
      "outputs": []
    },
    {
      "cell_type": "code",
      "source": [
        "from langchain.chains import GraphCypherQAChain\n",
        "\n",
        "#creating the chain using your existing prompt template\n",
        "cypherChain = GraphCypherQAChain.from_llm(\n",
        "    llm=llm,\n",
        "    graph=graph,\n",
        "    verbose=True,\n",
        "    cypher_prompt=CYPHER_GENERATION_PROMPT,\n",
        "    allow_dangerous_requests=True\n",
        ")"
      ],
      "metadata": {
        "id": "Au-X5AbGifwX"
      },
      "execution_count": 19,
      "outputs": []
    },
    {
      "cell_type": "code",
      "source": [
        "def prettyCypherChain(question: str) -> None:\n",
        "    response = cypherChain.run(question)\n",
        "    print(textwrap.fill(response, 60))"
      ],
      "metadata": {
        "id": "MW4fpw0Miwu6"
      },
      "execution_count": 20,
      "outputs": []
    },
    {
      "cell_type": "markdown",
      "source": [
        "# Inference"
      ],
      "metadata": {
        "id": "Y4M3DLB18o_p"
      }
    },
    {
      "cell_type": "code",
      "source": [
        "prettyCypherChain(\"What are the names of all the Seven Sisters hills?\")"
      ],
      "metadata": {
        "id": "KyShidati-g3",
        "colab": {
          "base_uri": "https://localhost:8080/"
        },
        "outputId": "680a8cbb-5390-4458-87b5-6f547e800ff5"
      },
      "execution_count": 21,
      "outputs": [
        {
          "output_type": "stream",
          "name": "stderr",
          "text": [
            "<ipython-input-20-9befdf83b432>:2: LangChainDeprecationWarning: The method `Chain.run` was deprecated in langchain 0.1.0 and will be removed in 1.0. Use :meth:`~invoke` instead.\n",
            "  response = cypherChain.run(question)\n"
          ]
        },
        {
          "output_type": "stream",
          "name": "stdout",
          "text": [
            "\n",
            "\n",
            "\u001b[1m> Entering new GraphCypherQAChain chain...\u001b[0m\n",
            "Generated Cypher:\n",
            "\u001b[32;1m\u001b[1;3mMATCH (h:Hill)-[:PART_OF]->(parent:Hill {id: \"Seven Sisters Hill\"}) RETURN h.id AS hillName;\u001b[0m\n",
            "Full Context:\n",
            "\u001b[32;1m\u001b[1;3m[{'hillName': 'Muktai'}, {'hillName': 'Ambai'}, {'hillName': 'Nimbai'}, {'hillName': 'Mahakali'}, {'hillName': 'Lakshmi'}, {'hillName': 'Durga'}, {'hillName': 'Saraswati'}]\u001b[0m\n",
            "\n",
            "\u001b[1m> Finished chain.\u001b[0m\n",
            "The names of the hills are Muktai, Ambai, Nimbai, Mahakali,\n",
            "Lakshmi, Durga, and Saraswati.\n"
          ]
        }
      ]
    },
    {
      "cell_type": "code",
      "source": [
        "prettyCypherChain(\"Which highway is connected to Seven Sister hills?\")"
      ],
      "metadata": {
        "colab": {
          "base_uri": "https://localhost:8080/"
        },
        "id": "mo7e_PM-va0K",
        "outputId": "750aa807-5399-4f89-9518-404324b89d2e"
      },
      "execution_count": 26,
      "outputs": [
        {
          "output_type": "stream",
          "name": "stdout",
          "text": [
            "\n",
            "\n",
            "\u001b[1m> Entering new GraphCypherQAChain chain...\u001b[0m\n",
            "Generated Cypher:\n",
            "\u001b[32;1m\u001b[1;3mMATCH (h:Hill {id: \"Seven Sisters Hill\"})-[:CONNECTED_BY]->(highway:Highway)\n",
            "RETURN highway.id AS highwayName;\u001b[0m\n",
            "Full Context:\n",
            "\u001b[32;1m\u001b[1;3m[{'highwayName': 'Umred-Bhisi Highway'}]\u001b[0m\n",
            "\n",
            "\u001b[1m> Finished chain.\u001b[0m\n",
            "The Umred-Bhisi Highway is connected to Seven Sister hills.\n"
          ]
        }
      ]
    },
    {
      "cell_type": "code",
      "source": [
        "prettyCypherChain(\"What are the precautions while trekking Seven Sisters Hill?\")"
      ],
      "metadata": {
        "colab": {
          "base_uri": "https://localhost:8080/"
        },
        "id": "GXh3vDcs4RS1",
        "outputId": "5e8a0c38-b3ff-417c-99f3-144335f025e6"
      },
      "execution_count": 30,
      "outputs": [
        {
          "output_type": "stream",
          "name": "stdout",
          "text": [
            "\n",
            "\n",
            "\u001b[1m> Entering new GraphCypherQAChain chain...\u001b[0m\n",
            "Generated Cypher:\n",
            "\u001b[32;1m\u001b[1;3mMATCH (d:Document)-[:MENTIONS]->(h:Hill {id: \"Seven Sisters Hill\"}) \n",
            "RETURN d.text AS precautions;\u001b[0m\n",
            "Full Context:\n",
            "\u001b[32;1m\u001b[1;3m[{'precautions': 'Fitness Travel Food\\nStay alive!\\nSeven Sisters Hill, Perjagadh is situated in the Chandrapur District, adjacent to Sonapur Village, 106 kilometers from Nagpur. The Hill, which is 459 meters high and 35 kilometers\\xa0long, is what gives the hill its name, Seven Sisters Hill. Hills named Muktai, Ambai, Nimbai, Mahakali, Lakshmi, Durga, and Saraswati the seven sisters.It’s a one-day trip from Nagpur. The best option for weekend getaways.To get there, take the Umrer-Bhisi Highway.It takes approx 2 hours and 30 minutes from the Zero mile Nagpur with zero Tolls. (At least we got zero tolls)Never knew such an amazing trek spot near my native place. I’ve been living here for like 20 years. But never explored Seven Sisters Hill. Surprisingly hola, all! Here’s a friendly reminder that this year’s 2025 monsoon season has almost knocked at your doorstep. Visit Seven Sisters Hill before the monsoon ends, if you want to experience the adventure and the most breathtaking views.\\n\\nWell, are you interested in joining us on our exciting sustainable travel and trek journey to Seven Sisters Hill?? Are you ready to have a unique and memorable experience? Fill out the below form, and we will send you all the details! Stay Alive!\\nLet’s begin with a few questions.Do you enjoy trekking or hiking?Do you enjoy spending time outdoors in Nature?Well…who doesn’t want to be in Nature, as we all are now living in the concrete jungle!Let me ask you one more thing.Are you a fitness freak?\\nThe reason I asked these questions is that trekking tests your fitness level. Your stamina, strength, mindset, focus, etc. If you’re a fitness fanatic, then there’s no issue. But if you’re not, then it will preach you or inspire you to get fit.Just like that!Ergo, frequent treks are worth it for your health and fitness. So here’s my journey to seven sisters hill. What could possibly go wrong the moment you wake up on the day of your trek? Well in my case, a heavy rain!It kinda disappointed us.What else could you expect during the monsoon season in August?At the same time, we didn’t want to postpone the plan, so we decided to stick to the plan and prepared our minds to get wet during the trek.Actually, It was becoming more adventurous. \\nJust stay aligned with nature. It will take you to the places you never imagined.\\nA post shared by Fitness Travel Food (@alive_with_ftf)\\nAt 7 AM, three of my friends and I set out on our journey to Seven Sisters Hill.We took the four-wheeler and prepared for the long drive.The overall travel to Seven Sisters Hill was quite exciting. The Umred-Bhisi route’s highway infrastructure was quite smooth and had no tolls along the way. (Although we did cross one toll it wasn’t functional) We followed Google Maps, and it led us in the right direction. With two stops along the way, the trip took approx. 2:30 hours.Suddenly on the way itself, weather kinda blessed us with the so-called “Perfect Weather“. It stopped raining outside. The weather was quite crisp with a moderate fresh breeze, plus the cloudy skies saved us from the sunlight Tan. (This is one of the reasons I urged people to come here before the monsoon season ends!)\\nWe drove to our destination, Seven Sisters Hill, parked our car there, and they charged us around Rs. 50/-There was adequate parking space for travelers to park there.\\xa0A variety\\xa0of\\xa0local\\xa0stalls\\xa0were also available onsite,\\xa0including\\xa0food(snacks\\xa0only),\\xa0but carry\\xa0your\\xa0own\\xa0if\\xa0possible.We grabbed our backpacks with the essentials and began the hike.From below, you would be able to see the hill height,\\xa0where you could have a glance at a few people standing at the cliff of the hill which reminded me of ANTS.This\\xa0would\\xa0allow\\xa0you\\xa0to\\xa0see\\xa0how\\xa0far\\xa0you have\\xa0to\\xa0trek.\\xa0This made us feel more energized and challenged.Trek\\xa0begins\\xa0with\\xa0stairs\\xa0and\\xa0it looks\\xa0like\\xa0a\\xa0temple\\xa0entrance.After a few steps, the stairs ended, and the actual trek began.It’s a slant trek, not a plain trail, but one covered with gravel, stones, and rocks.After 15-20 Minutes of the trek, we felt the difficulty of this trek. (Easy-Moderate Level Trek)I’ve seen few people returning back from the midpoint of the trek because they became exhausted. But trust me, have patience, take as many breaks as you need in the middle of the trek but don’t give up.Because once you reach the top of the hill, the view will make the discomfort negligible. All your anguish will be forgotten. Your efforts will be rewarded by the peace and beautiful vista.It was a dense forest, so dense that the tree canopy prevented us from seeing the sky.\\xa0Above us, it appears to be like a natural shade.\\xa0Perfect for hiking on sunny days because it shields your skin from UV rays.We\\xa0continued\\xa0on\\xa0our\\xa0trek.\\xa0The vista grew more breathtaking and lively as we drew nearer to the summit.We could now feel the cool breeze, which soon refreshed our souls and carried away all of our fatigue.\\nWe finally made it to the peak after an hour of trekking. Your heart would literally spell, “WoW, grateful to be here” The feeling that can’t be expressed but only felt.After watching the panorama. Which was undefinable. I’ve been to many different treks, but every trek gave me unique experiences.The hilltop was surrounded by hills and greenery all around, and the dense forest and cold breeze that carried only pure oxygen which revived our spirits. From the summit, one could also glimpse a few lakes and ponds.Nothing except Mother Nature was visible on the horizon, not a single concrete structure!\\xa0\\xa0Such a wonderful place to be.We also came across an elderly woman, maybe 80 years old, who had hiked barefoot to the peak to take in the spectacular view. She was inspiring everyone around her to trek. Including Us!\\xa0It’s all about the mindset.\\nWe then sat on the rocks atop the hill and relished the view while munching the fruits and the lunch we had brought with us.Well, I believe that this is a true luxury.In Nature!With Nature!Align with Nature!An experience to treasure.We took a few photographs to capture the moment, and then we hiked back down the hill. Approaching the starting point on the way back took only 30 minutes. In order to make us feel less worn out, nature spilled soothing rain on us.\\nTrekking will always offer you the the best views and the most memorable experiences in life. Now go & have them!\\nIn a nutshell, Seven Sisters Hill is the best trekking location near Nagpur. You will experience an incredible mini-adventure, or dopamine rush, in biological terms. For nature lovers, it’s a gem. It’ll give you a sense of self-satisfaction and mental peace.Near Seven Sisters Hill, there are additional attractions to visit, including:– Muktai Waterfall– Ghorazari Dam– Zari waterfallDo you know any offbeat trekking locations close to Nagpur?Share it in the comments below.Don’t forget to\\xa0subscribe\\xa0to our\\xa0Newsletter\\xa0for Fitness Travel Food Updates!Hope you get to travel the World!Have a safe Trek!\\nTo Read More Such Blogs Click Home.\\n\\nWhat an amazing experience it was !!\\nAfter reading this blog my memories from there just got refreshed, wanna go there again.\\nPeaceful and heavenly place!\\nAnd keep it up girl your blogs are just awesome as you are.\\nLove 🙂\\nTysm Dear! It means a lot to me.\\nThat was really a wonderful experience and with people like you, makes it more beautiful.\\nNow go and prepare yourself for more such adventures.❤\\nWhat an amazing blog…i loved it…while reading this i started feeling as if i am present at seven sisters hill…keep going Neha ❤️❤️🥰🥰loads of love and best wishes\\nTysm! So grateful that I’m able to share my experience in such a way.❤\\nReading this blog, reminds my trek. What a amazing and eventful day it was. Brothers, mountains, bike, rain and mother nature…………….life\\nThank you for remind me that day….. ❤\\nAnd keep writing it👍…. Waiting for next trekking destination……. 😎\\nGlad to hear this. Stay fit & happy trekking🙌\\nIs there any Bus facilities from nagpur\\nThank you for such an informative blog. This weekend I will probably visit there and your blog is really helping me to plan a few things in advance. In fact, I checked a few other posts, and I love those too. Just knowing about a person from my native town who is as interested in places, travel, food, and fitness as me, this feeling gives my heart a moment of comfort. Nagpur needs more talent like you. Keep Exploring Neha and keep writing about your experiences. Your descriptive writing is really beautiful. God bless you with everything you want. Cheers!\\nI’m so glad & grateful that you loved it.\\nThanks for reading and sharing your views.\\nI wish you safe and sustainable journeys!💚\\nI am a 60 yr old retired professor. I am interested in Trekking near Nagpur. Can you please include me in your hiking group?\\nYeah sure, why not? You can follow us on Instagram or subscribe to our newsletter for any latest updates.\\nThank you for sharing your experience my friends and I thinking to go there but we didn’t know anything about there this very useful information 💌\\nAmazing content on Seven Sisters Hill I loved it\\nAny place for stay?\\nUnfortunately, there are no stays at this place as far as I know. However, you may search for it in the nearby city or town.\\nI am curious to find out what blog system you’re using?\\nHey, would you mind if I share your blog with my twitter group? There’s a lot of folks that I think would enjoy your content. Please let me know. Thank you.\\n🚀 Wow, blog ini seperti roket meluncur ke galaksi dari kegembiraan! 💫 Konten yang menegangkan di sini adalah perjalanan rollercoaster yang mendebarkan bagi imajinasi, memicu ketertarikan setiap saat. 🌟 Baik itu inspirasi, blog ini adalah harta karun wawasan yang inspiratif! #PetualanganMenanti 🚀 ke dalam petualangan mendebarkan ini dari imajinasi dan biarkan pikiran Anda melayang! 🌈 Jangan hanya membaca, rasakan kegembiraan ini! #MelampauiBiasa Pikiran Anda akan bersyukur untuk perjalanan mendebarkan ini melalui alam keajaiban yang menakjubkan! 🚀\\nI like this, but I do have a question.  Do you mind answering?\\n💫 Wow, blog ini seperti petualangan fantastis meluncurkan ke galaksi dari keajaiban! 💫 Konten yang menegangkan di sini adalah perjalanan rollercoaster yang mendebarkan bagi pikiran, memicu kagum setiap saat. 🎢 Baik itu gayahidup, blog ini adalah sumber wawasan yang inspiratif! 🌟 Berangkat ke dalam perjalanan kosmik ini dari penemuan dan biarkan pemikiran Anda berkelana! 🚀 Jangan hanya menikmati, rasakan sensasi ini! #MelampauiBiasa 🚀 akan bersyukur untuk perjalanan menyenangkan ini melalui alam keajaiban yang tak berujung! 🚀\\nBrilliant content\\nThanks for sharing. I read many of your blog posts, cool, your blog is very good.\\nnice content!nice history!! boba 😀\\nOnly wanna remark that you have a very nice internet site, I  the design and style it actually stands out.\\nYour post is a ray of light in the darkness. Thank you for brightening my day in a unique way. Keep shining! ☀️\\nI have no words to describe how your content illuminated my day. Keep being that source of inspiration! 🌟\\nI enjoy you because of your own effort on this web site. My daughter really likes engaging in investigations and it’s easy to understand why. All of us notice all of the powerful means you provide useful ideas via this web blog and therefore foster response from the others on this issue plus our girl is undoubtedly discovering a great deal. Take advantage of the rest of the new year. Your carrying out a superb job.\\nHey! Do you know if they make any plugins to help with Search Engine Optimization? I’m trying to get my blog to rank for some targeted keywords but I’m not seeing very good gains. If you know of any please share. Cheers!\\nI am genuinely amazed with your profound understanding and stellar writing style. Your expertise shines through in each paragraph. It’s obvious that you put a lot of effort into delving into your topics, and the results is well-appreciated. Thank you for sharing such detailed information. Continue the excellent job! http://www.RochelleMaize.com\\nGreat post. I was checking constantly this blog and I am impressed! Extremely useful information specially the last part 🙂 I care for such information a lot. I was looking for this certain info for a long time. Thank you and best of luck.\\nYour article helped me a lot, is there any more related content? Thanks!\\nThanks for sharing. I read many of your blog posts, cool, your blog is very good.\\nYour email address will not be published. Required fields are marked *\\nComment\\nName*\\nEmail*\\nWebsite\\n Save my name, email, and website in this browser for the next time I comment.\\n Notify me of follow-up comments by email.\\n Notify me of new posts by email.\\n \\n\\nA Biotechnologist turned Blogger.\\nFounder@FTF.\\nFreelancer- Search Engine Marketing(SEO) Keyword Research & Content Writing,\\nCertified Yoga Instructor (200Hrs YTTc)\\nCertified Diet Coach.\\nAll in all, a remote worker.\\n'}]\u001b[0m\n",
            "\n",
            "\u001b[1m> Finished chain.\u001b[0m\n",
            "Fitness, travel, and food precautions are necessary while\n",
            "trekking Seven Sisters Hill, and it's also important to stay\n",
            "alive. Additionally, the trek is an easy-moderate level\n",
            "trek, so it's essential to test your fitness level,\n",
            "including stamina, strength, mindset, and focus. It's\n",
            "recommended to have patience, take breaks as needed, and not\n",
            "give up, as the view from the top will make the discomfort\n",
            "negligible.\n"
          ]
        }
      ]
    },
    {
      "cell_type": "markdown",
      "source": [
        "# Limitations\n",
        "Right now I haven't created more meaningful nodes and relationships about the blog. I have used the graph transformers for creating the nodes and relationships. For more meaningful nodes and relationships I need to create them manually, like :\n",
        "- which will include precautions of the trekking at this place,\n",
        "- what are the reviews of the place etc.\n",
        "\n",
        "This will be my future work. <br>\n",
        "In the next query you can see that, if it don't knows the answer it will answer don't know, ensuring that LLM doesn't hallucinate. This is handled by providing instructions to the LLM as a prompt."
      ],
      "metadata": {
        "id": "lCuZISA84Y0u"
      }
    },
    {
      "cell_type": "code",
      "source": [
        "prettyCypherChain(\"What different people have commented about this blog on Seven Sisters Hill?\")"
      ],
      "metadata": {
        "colab": {
          "base_uri": "https://localhost:8080/"
        },
        "id": "nBZvAH2X5m2j",
        "outputId": "20a206f2-eed5-4ef0-a6fd-a8da5b32b98e"
      },
      "execution_count": 31,
      "outputs": [
        {
          "output_type": "stream",
          "name": "stdout",
          "text": [
            "\n",
            "\n",
            "\u001b[1m> Entering new GraphCypherQAChain chain...\u001b[0m\n",
            "Generated Cypher:\n",
            "\u001b[32;1m\u001b[1;3mMATCH (d:Document)-[:MENTIONS]->(h:Hill {id: \"Seven Sisters Hill\"}) \n",
            "RETURN DISTINCT d.source AS person;\u001b[0m\n",
            "Full Context:\n",
            "\u001b[32;1m\u001b[1;3m[{'person': '/content/scraped_data.txt'}]\u001b[0m\n",
            "\n",
            "\u001b[1m> Finished chain.\u001b[0m\n",
            "I don't know the answer.\n"
          ]
        }
      ]
    },
    {
      "cell_type": "code",
      "source": [],
      "metadata": {
        "id": "vrVrz6ro6FBA"
      },
      "execution_count": null,
      "outputs": []
    }
  ]
}